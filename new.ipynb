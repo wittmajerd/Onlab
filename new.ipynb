{
 "cells": [
  {
   "cell_type": "code",
   "execution_count": 1,
   "metadata": {},
   "outputs": [],
   "source": [
    "import torch\n",
    "from torch.utils.data import Dataset\n",
    "from torch.utils.data import DataLoader\n",
    "from torchvision import datasets\n",
    "from torchvision.transforms import ToTensor\n",
    "import numpy as np\n",
    "import os\n",
    "import matplotlib.pyplot as plt"
   ]
  },
  {
   "cell_type": "code",
   "execution_count": null,
   "metadata": {},
   "outputs": [],
   "source": [
    "torch.device('cuda' if torch.cuda.is_available() else 'cpu')"
   ]
  },
  {
   "cell_type": "code",
   "execution_count": 28,
   "metadata": {},
   "outputs": [],
   "source": [
    "import pickle\n",
    "\n",
    "with open('alldata.pkl', 'rb') as in_file:\n",
    "    data = pickle.load(in_file)\n"
   ]
  },
  {
   "cell_type": "code",
   "execution_count": 33,
   "metadata": {},
   "outputs": [],
   "source": [
    "biosensor = []\n",
    "masks = []\n",
    "\n",
    "for d in data:\n",
    "    biosensor.append(d['biosensor'])\n",
    "    masks.append(d['mask'])\n"
   ]
  },
  {
   "cell_type": "code",
   "execution_count": 109,
   "metadata": {},
   "outputs": [
    {
     "name": "stdout",
     "output_type": "stream",
     "text": [
      "[ 0  1  2  3  4  5  6  7  8  9 10 11 12 13 16 17 18 19 20 21 22 23 25 27\n",
      " 28 31 32 37 38 39 40 41 42 43 44 45 46 47 49 53 54 55 57 58 59 62 63 64\n",
      " 68 70 71 77 78 79 80 82]\n"
     ]
    },
    {
     "data": {
      "text/plain": [
       "(56,)"
      ]
     },
     "execution_count": 109,
     "metadata": {},
     "output_type": "execute_result"
    },
    {
     "data": {
      "image/png": "[encoded data removed]",
      "text/plain": [
       "<Figure size 640x480 with 1 Axes>"
      ]
     },
     "metadata": {},
     "output_type": "display_data"
    }
   ],
   "source": [
    "test_mask = masks[5]\n",
    "\n",
    "# Nincs annyi sejt a maszkon ahány számmal jelöltük\n",
    "plt.imshow(test_mask)\n",
    "print(np.unique(test_mask))\n",
    "np.unique(test_mask).shape"
   ]
  },
  {
   "cell_type": "code",
   "execution_count": 110,
   "metadata": {},
   "outputs": [
    {
     "name": "stdout",
     "output_type": "stream",
     "text": [
      "56\n",
      "56\n"
     ]
    }
   ],
   "source": [
    "labeled_mask, num_cells = ndimage.label(test_mask)  # Label each cell\n",
    "centers = ndimage.center_of_mass(test_mask, labeled_mask, range(1, num_cells+1))\n",
    "# centers = np.round(centers).astype(int)  # Round to nearest integer\n",
    "print(len(centers))  # Print or store the centers\n",
    "print(num_cells)"
   ]
  },
  {
   "cell_type": "code",
   "execution_count": 111,
   "metadata": {},
   "outputs": [
    {
     "name": "stdout",
     "output_type": "stream",
     "text": [
      "56\n"
     ]
    }
   ],
   "source": [
    "mask = test_mask.astype(np.uint8)  # Convert to 8-bit unsigned integer\n",
    "num_labels, labels, stats, centroids = cv2.connectedComponentsWithStats(mask, connectivity=8)\n",
    "# centroids = np.round(centroids[1:]).astype(int)  # Round to nearest integer, skip background\n",
    "# print(centroids)  # Print or store the centers\n",
    "print(num_cells)"
   ]
  },
  {
   "cell_type": "code",
   "execution_count": null,
   "metadata": {},
   "outputs": [],
   "source": [
    "# To display all the elements of the matrix\n",
    "np.set_printoptions(threshold=np.inf)\n",
    "print(test_mask[550])"
   ]
  },
  {
   "cell_type": "code",
   "execution_count": 101,
   "metadata": {},
   "outputs": [],
   "source": [
    "# A maszkokon meg kell keresni az összes sejt középpontját, és azok kooordinátáit kell eltárolni\n",
    "\n",
    "import numpy as np\n",
    "from scipy import ndimage\n",
    "\n",
    "centers_ndimage = []\n",
    "\n",
    "# Assuming masks is a list of 2D numpy arrays\n",
    "for mask in masks:\n",
    "    labeled_mask, num_cells = ndimage.label(mask)  # Label each cell\n",
    "    centers = ndimage.center_of_mass(mask, labeled_mask, range(1, num_cells+1))\n",
    "    centers = np.round(centers).astype(int)  # Round to nearest integer\n",
    "    centers_ndimage.append(centers)  # Store the centers"
   ]
  },
  {
   "cell_type": "code",
   "execution_count": 102,
   "metadata": {},
   "outputs": [],
   "source": [
    "import cv2\n",
    "import numpy as np\n",
    "\n",
    "centers_cv = []\n",
    "\n",
    "# Assuming masks is a list of 2D numpy arrays\n",
    "for mask in masks:\n",
    "    mask = mask.astype(np.uint8)  # Convert to 8-bit unsigned integer\n",
    "    num_labels, labels, stats, centroids = cv2.connectedComponentsWithStats(mask, connectivity=8)\n",
    "    # centroids = np.round(centroids[1:]).astype(int)  # Round to nearest integer, skip background\n",
    "    centers_cv.append(centroids)  # Print or store the centers"
   ]
  },
  {
   "cell_type": "code",
   "execution_count": 107,
   "metadata": {},
   "outputs": [],
   "source": [
    "# Ez egyel kevesebb mert a 0-t is beleveszi\n",
    "num_cells_unique = []\n",
    "for mask in masks:\n",
    "    num_cells_unique.append(np.unique(mask).shape[0])\n"
   ]
  },
  {
   "cell_type": "code",
   "execution_count": 103,
   "metadata": {},
   "outputs": [],
   "source": [
    "found_cells_nd = []\n",
    "found_cells_cv = []\n",
    "for center in centers_ndimage:\n",
    "    found_cells_nd.append(center.shape[0])\n",
    "for center in centers_cv:\n",
    "    found_cells_cv.append(center.shape[0])"
   ]
  },
  {
   "cell_type": "code",
   "execution_count": 108,
   "metadata": {},
   "outputs": [
    {
     "name": "stdout",
     "output_type": "stream",
     "text": [
      "86 76 77\n",
      "406 358 351\n",
      "301 293 288\n",
      "462 441 438\n",
      "249 241 239\n",
      "56 56 56\n",
      "37 35 36\n",
      "52 51 52\n",
      "40 38 39\n",
      "51 45 46\n",
      "48 45 46\n",
      "48 47 48\n",
      "42 41 42\n",
      "51 48 49\n",
      "47 45 46\n",
      "56 55 56\n",
      "163 157 158\n",
      "169 166 166\n",
      "154 145 146\n",
      "142 134 135\n",
      "190 172 172\n",
      "208 181 182\n",
      "133 123 124\n",
      "123 115 116\n",
      "207 202 202\n",
      "200 196 195\n",
      "140 139 140\n",
      "158 157 158\n",
      "204 199 200\n",
      "245 240 241\n",
      "218 215 214\n",
      "208 203 203\n",
      "160 157 157\n",
      "222 218 218\n",
      "228 222 223\n",
      "228 223 222\n",
      "220 213 213\n",
      "222 219 219\n",
      "243 238 238\n",
      "263 260 258\n",
      "78 77 78\n",
      "81 77 78\n",
      "97 96 97\n",
      "93 91 92\n",
      "87 85 86\n",
      "82 80 81\n",
      "53 52 53\n",
      "69 68 69\n",
      "46 45 46\n",
      "54 53 54\n",
      "60 57 58\n",
      "52 51 52\n",
      "77 76 77\n",
      "100 99 100\n",
      "86 83 84\n",
      "81 80 81\n",
      "94 91 92\n",
      "82 81 81\n",
      "48 47 48\n",
      "34 33 34\n",
      "51 50 51\n",
      "39 39 40\n",
      "44 43 44\n",
      "44 43 44\n",
      "60 58 59\n",
      "36 36 35\n",
      "65 64 65\n",
      "34 32 32\n",
      "107 104 105\n",
      "24 23 24\n",
      "64 63 64\n",
      "23 22 23\n",
      "35 34 35\n",
      "30 28 29\n",
      "61 60 61\n",
      "182 180 181\n",
      "119 116 117\n",
      "173 170 171\n",
      "62 61 62\n",
      "209 207 208\n",
      "110 109 110\n",
      "184 179 180\n",
      "54 53 54\n",
      "217 214 214\n",
      "166 163 164\n",
      "139 138 139\n",
      "70 68 69\n",
      "141 138 139\n",
      "66 64 65\n",
      "140 139 140\n",
      "201 197 198\n",
      "84 82 83\n",
      "98 96 96\n",
      "43 42 43\n",
      "139 137 137\n",
      "78 75 76\n",
      "78 77 78\n",
      "37 35 36\n",
      "158 156 157\n",
      "75 74 75\n",
      "64 63 63\n",
      "54 53 54\n",
      "86 85 85\n",
      "85 82 83\n",
      "68 66 66\n",
      "42 40 41\n",
      "49 49 49\n",
      "98 92 93\n",
      "91 80 81\n",
      "46 45 45\n",
      "109 104 105\n",
      "87 84 84\n",
      "50 47 48\n",
      "37 33 34\n",
      "258 237 238\n",
      "241 225 225\n",
      "225 220 220\n",
      "250 236 236\n",
      "231 225 223\n",
      "190 179 179\n",
      "107 102 103\n",
      "87 85 86\n",
      "84 79 80\n",
      "93 84 84\n",
      "96 87 88\n",
      "87 86 86\n",
      "45 43 44\n",
      "43 42 43\n",
      "48 46 47\n",
      "64 63 64\n",
      "9 8 9\n",
      "6 5 6\n",
      "13 12 13\n",
      "12 11 12\n",
      "38 37 38\n",
      "43 43 43\n",
      "50 48 49\n",
      "86 81 82\n",
      "23 23 23\n",
      "94 90 91\n",
      "41 39 40\n",
      "77 72 73\n",
      "27 25 26\n",
      "90 86 87\n",
      "45 43 44\n",
      "91 85 86\n",
      "95 92 93\n",
      "44 42 43\n",
      "70 67 68\n",
      "57 56 57\n",
      "30 29 30\n",
      "61 60 61\n",
      "74 72 73\n",
      "32 31 32\n",
      "45 44 45\n",
      "50 49 50\n",
      "81 80 81\n",
      "32 29 30\n",
      "143 140 141\n",
      "84 81 82\n",
      "126 119 119\n",
      "73 70 71\n",
      "104 97 98\n"
     ]
    }
   ],
   "source": [
    "for i in range(len(num_cells_unique)):\n",
    "    print(num_cells_unique[i], found_cells_nd[i], found_cells_cv[i])"
   ]
  }
 ],
 "metadata": {
  "kernelspec": {
   "display_name": "base",
   "language": "python",
   "name": "python3"
  },
  "language_info": {
   "codemirror_mode": {
    "name": "ipython",
    "version": 3
   },
   "file_extension": ".py",
   "mimetype": "text/x-python",
   "name": "python",
   "nbconvert_exporter": "python",
   "pygments_lexer": "ipython3",
   "version": "3.11.7"
  }
 },
 "nbformat": 4,
 "nbformat_minor": 2
}
