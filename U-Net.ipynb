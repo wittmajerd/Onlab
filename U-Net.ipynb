{
 "cells": [
  {
   "cell_type": "code",
   "execution_count": 7,
   "metadata": {},
   "outputs": [],
   "source": [
    "import torch\n",
    "from torch.utils.data import DataLoader\n",
    "import numpy as np\n",
    "import os\n",
    "import matplotlib.pyplot as plt\n",
    "import skimage.measure\n",
    "import scipy.ndimage\n",
    "\n",
    "from src.datasets import BiosensorDataset, create_datasets\n",
    "from src.unet.unet_model import UNet\n",
    "from src.train import train_model\n",
    "from src.evaluate import evaluate"
   ]
  },
  {
   "cell_type": "code",
   "execution_count": 2,
   "metadata": {},
   "outputs": [
    {
     "name": "stdout",
     "output_type": "stream",
     "text": [
      "Using device cuda\n"
     ]
    }
   ],
   "source": [
    "device = torch.device('cuda' if torch.cuda.is_available() else 'cpu')\n",
    "print(f'Using device {device}')\n",
    "\n",
    "torch.manual_seed(42)\n",
    "np.random.seed(42)\n",
    "\n",
    "data_path = 'C:/onlab_git/Onlab/data_with_centers/'\n",
    "checkpoint_dir = 'unet-checkpoints'\n",
    "train_percent = 0.495\n",
    "test_percent = 0.30\n",
    "batch_size = 4\n",
    "bio_len = 8\n",
    "mask_size = 80\n",
    "\n",
    "train_dataset, val_dataset, test_dataset = create_datasets(data_path, train_percent, bool, test_percent=test_percent, biosensor_length=bio_len, mask_size=mask_size, augment=True)\n",
    "\n",
    "train_loader = DataLoader(train_dataset, batch_size=batch_size, shuffle=True)\n",
    "val_loader = DataLoader(val_dataset, batch_size=batch_size, shuffle=False)\n",
    "test_loader = DataLoader(test_dataset, batch_size=batch_size, shuffle=False)\n",
    "\n",
    "model = UNet(n_channels=bio_len, n_classes=1)\n",
    "model = model.to(device)"
   ]
  },
  {
   "cell_type": "code",
   "execution_count": 3,
   "metadata": {},
   "outputs": [
    {
     "name": "stdout",
     "output_type": "stream",
     "text": [
      "Starting training:\n",
      "        Epochs:          15\n",
      "        Batch size:      4\n",
      "        Learning rate:   0.01\n",
      "        Training size:   80\n",
      "        Validation size: 35\n",
      "        Device:          cuda\n",
      "        Mixed Precision: True\n",
      "        Dilatation:      0\n",
      "    \n"
     ]
    },
    {
     "name": "stderr",
     "output_type": "stream",
     "text": [
      "Epoch 1/15: 100%|██████████| 80/80 [00:14<00:00,  5.67img/s, loss (batch)=0.807]\n"
     ]
    },
    {
     "name": "stdout",
     "output_type": "stream",
     "text": [
      "Validation Dice score: 0.002604305511340499, Detection rate: 0.005486466715435259\n",
      "Checkpoint 1 saved!\n"
     ]
    },
    {
     "name": "stderr",
     "output_type": "stream",
     "text": [
      "Epoch 2/15: 100%|██████████| 80/80 [00:13<00:00,  5.86img/s, loss (batch)=0.978]\n"
     ]
    },
    {
     "name": "stdout",
     "output_type": "stream",
     "text": [
      "Validation Dice score: 0.21715934574604034, Detection rate: 0.2607900512070227\n",
      "Checkpoint 2 saved!\n"
     ]
    },
    {
     "name": "stderr",
     "output_type": "stream",
     "text": [
      "Epoch 3/15: 100%|██████████| 80/80 [00:13<00:00,  6.05img/s, loss (batch)=0.747]\n"
     ]
    },
    {
     "name": "stdout",
     "output_type": "stream",
     "text": [
      "Validation Dice score: 0.3683970868587494, Detection rate: 0.633138258961229\n",
      "Checkpoint 3 saved!\n"
     ]
    },
    {
     "name": "stderr",
     "output_type": "stream",
     "text": [
      "Epoch 4/15: 100%|██████████| 80/80 [00:12<00:00,  6.30img/s, loss (batch)=0.784]\n"
     ]
    },
    {
     "name": "stdout",
     "output_type": "stream",
     "text": [
      "Validation Dice score: 0.35669973492622375, Detection rate: 0.7136064374542794\n",
      "Checkpoint 4 saved!\n"
     ]
    },
    {
     "name": "stderr",
     "output_type": "stream",
     "text": [
      "Epoch 5/15: 100%|██████████| 80/80 [00:12<00:00,  6.48img/s, loss (batch)=0.675]\n"
     ]
    },
    {
     "name": "stdout",
     "output_type": "stream",
     "text": [
      "Validation Dice score: 0.3310006260871887, Detection rate: 0.7388441843452817\n",
      "Checkpoint 5 saved!\n"
     ]
    },
    {
     "name": "stderr",
     "output_type": "stream",
     "text": [
      "Epoch 6/15: 100%|██████████| 80/80 [00:12<00:00,  6.28img/s, loss (batch)=0.896]\n"
     ]
    },
    {
     "name": "stdout",
     "output_type": "stream",
     "text": [
      "Validation Dice score: 0.40452465415000916, Detection rate: 0.7553035844915874\n",
      "Checkpoint 6 saved!\n"
     ]
    },
    {
     "name": "stderr",
     "output_type": "stream",
     "text": [
      "Epoch 7/15: 100%|██████████| 80/80 [00:12<00:00,  6.31img/s, loss (batch)=0.672]\n"
     ]
    },
    {
     "name": "stdout",
     "output_type": "stream",
     "text": [
      "Validation Dice score: 0.4081939160823822, Detection rate: 0.7286027798098025\n",
      "Checkpoint 7 saved!\n"
     ]
    },
    {
     "name": "stderr",
     "output_type": "stream",
     "text": [
      "Epoch 8/15: 100%|██████████| 80/80 [00:12<00:00,  6.33img/s, loss (batch)=0.78] \n"
     ]
    },
    {
     "name": "stdout",
     "output_type": "stream",
     "text": [
      "Validation Dice score: 0.38368427753448486, Detection rate: 0.7750548646671543\n",
      "Checkpoint 8 saved!\n"
     ]
    },
    {
     "name": "stderr",
     "output_type": "stream",
     "text": [
      "Epoch 9/15: 100%|██████████| 80/80 [00:12<00:00,  6.17img/s, loss (batch)=0.782]\n"
     ]
    },
    {
     "name": "stdout",
     "output_type": "stream",
     "text": [
      "Validation Dice score: 0.4055405855178833, Detection rate: 0.8057790782735919\n",
      "Checkpoint 9 saved!\n"
     ]
    },
    {
     "name": "stderr",
     "output_type": "stream",
     "text": [
      "Epoch 10/15: 100%|██████████| 80/80 [00:13<00:00,  6.11img/s, loss (batch)=0.696]\n"
     ]
    },
    {
     "name": "stdout",
     "output_type": "stream",
     "text": [
      "Validation Dice score: 0.4229012131690979, Detection rate: 0.8094367227505487\n",
      "Checkpoint 10 saved!\n"
     ]
    },
    {
     "name": "stderr",
     "output_type": "stream",
     "text": [
      "Epoch 11/15: 100%|██████████| 80/80 [00:12<00:00,  6.16img/s, loss (batch)=0.758]\n"
     ]
    },
    {
     "name": "stdout",
     "output_type": "stream",
     "text": [
      "Validation Dice score: 0.40817418694496155, Detection rate: 0.7900512070226774\n",
      "Checkpoint 11 saved!\n"
     ]
    },
    {
     "name": "stderr",
     "output_type": "stream",
     "text": [
      "Epoch 12/15: 100%|██████████| 80/80 [00:13<00:00,  5.83img/s, loss (batch)=0.928]\n"
     ]
    },
    {
     "name": "stdout",
     "output_type": "stream",
     "text": [
      "Validation Dice score: 0.395841121673584, Detection rate: 0.8017556693489393\n",
      "Checkpoint 12 saved!\n"
     ]
    },
    {
     "name": "stderr",
     "output_type": "stream",
     "text": [
      "Epoch 13/15: 100%|██████████| 80/80 [00:13<00:00,  6.09img/s, loss (batch)=0.966]\n"
     ]
    },
    {
     "name": "stdout",
     "output_type": "stream",
     "text": [
      "Validation Dice score: 0.4042311906814575, Detection rate: 0.8178493050475494\n",
      "Checkpoint 13 saved!\n"
     ]
    },
    {
     "name": "stderr",
     "output_type": "stream",
     "text": [
      "Epoch 14/15: 100%|██████████| 80/80 [00:13<00:00,  6.12img/s, loss (batch)=0.765]\n"
     ]
    },
    {
     "name": "stdout",
     "output_type": "stream",
     "text": [
      "Validation Dice score: 0.4182581603527069, Detection rate: 0.7970007315288954\n",
      "Checkpoint 14 saved!\n"
     ]
    },
    {
     "name": "stderr",
     "output_type": "stream",
     "text": [
      "Epoch 15/15: 100%|██████████| 80/80 [00:13<00:00,  6.15img/s, loss (batch)=0.676]"
     ]
    },
    {
     "name": "stdout",
     "output_type": "stream",
     "text": [
      "Validation Dice score: 0.4142612814903259, Detection rate: 0.8269934162399415\n",
      "Checkpoint 15 saved!\n"
     ]
    },
    {
     "name": "stderr",
     "output_type": "stream",
     "text": [
      "\n"
     ]
    }
   ],
   "source": [
    "try:\n",
    "    train_model(\n",
    "        model,\n",
    "        device,\n",
    "        train_loader,\n",
    "        val_loader,\n",
    "        learning_rate=0.01,\n",
    "        epochs=15,\n",
    "        checkpoint_dir=checkpoint_dir,\n",
    "        amp=True,\n",
    "        wandb_logging=False\n",
    "    )\n",
    "except torch.cuda.OutOfMemoryError:\n",
    "    torch.cuda.empty_cache()\n",
    "    print('Detected OutOfMemoryError!')"
   ]
  },
  {
   "cell_type": "code",
   "execution_count": 12,
   "metadata": {},
   "outputs": [],
   "source": [
    "# from torchsummary import summary\n",
    "# Print the model summary\n",
    "# summary(model, input_size=(bio_len, mask_size, mask_size))\n",
    "\n",
    "# Load the checkpoint\n",
    "checkpoint = torch.load(\"unet-checkpoints/checkpoint_epoch15.pth\")\n",
    "# Get the learning rate and remove it from the checkpoint\n",
    "lr = checkpoint.pop('learning_rate')\n",
    "# Load the state dictionary into the model\n",
    "model.load_state_dict(checkpoint)\n",
    "# Move the model to the device\n",
    "model = model.to(device)"
   ]
  },
  {
   "cell_type": "code",
   "execution_count": 26,
   "metadata": {},
   "outputs": [
    {
     "name": "stderr",
     "output_type": "stream",
     "text": [
      "                                                                    "
     ]
    },
    {
     "name": "stdout",
     "output_type": "stream",
     "text": [
      "Validation dice score: 0.4142612814903259, Detection rate: 0.8269934162399415\n",
      "Validation dice score: 0.389661967754364, Detection rate: 0.7946449916327994\n"
     ]
    },
    {
     "name": "stderr",
     "output_type": "stream",
     "text": [
      "\r"
     ]
    }
   ],
   "source": [
    "val_dice_score, val_detection_rate = evaluate(model, val_loader, device)\n",
    "dice_score, detection_rate = evaluate(model, test_loader, device)\n",
    "print(f'Validation dice score: {val_dice_score}, Detection rate: {val_detection_rate}')\n",
    "print(f'Validation dice score: {dice_score}, Detection rate: {detection_rate}')"
   ]
  },
  {
   "cell_type": "code",
   "execution_count": 15,
   "metadata": {},
   "outputs": [],
   "source": [
    "# Saving the best model for production\n",
    "# model = UNet(n_channels=8, n_classes=1)\n",
    "# checkpoint = torch.load(\"checkpoints/checkpoint_8_4_85.pth\")\n",
    "# lr = checkpoint.pop('learning_rate')\n",
    "# model.load_state_dict(checkpoint)\n",
    "\n",
    "torch.jit.script(model).save('saved_models/unet_len8.pth')"
   ]
  },
  {
   "cell_type": "code",
   "execution_count": null,
   "metadata": {},
   "outputs": [],
   "source": [
    "# Load a batch of data and labels\n",
    "loader_iter = iter(test_loader)\n",
    "data, labels = next(loader_iter)\n",
    "data, labels = next(loader_iter)\n",
    "data, labels = next(loader_iter)\n",
    "\n",
    "# Move the data and labels to the device\n",
    "data = data.to(device)\n",
    "labels = labels.to(device)\n",
    "\n",
    "# Get the predictions\n",
    "predictions = model(data)\n",
    "\n",
    "sigmoid_predictions = (torch.nn.functional.sigmoid(predictions) > 0.5)\n",
    "sigmoid_predictions = sigmoid_predictions.cpu().detach().numpy()\n",
    "\n",
    "# Move the predictions and labels to the CPU and convert them to numpy arrays\n",
    "predictions = predictions.cpu().detach().numpy()\n",
    "binary_predictions = (predictions > 0.5).astype(np.uint8)\n",
    "\n",
    "labels = labels.cpu().numpy()\n",
    "\n",
    "# Plot the data, the labels, and the predictions\n",
    "for i in range(len(data)):\n",
    "    plt.figure(figsize=(10, 50))\n",
    "    \n",
    "    plt.subplot(1, 5, 1)\n",
    "    plt.imshow(data[i].cpu().numpy()[-1], cmap='gray')\n",
    "    plt.title('Biosensor')\n",
    "    \n",
    "    plt.subplot(1, 5, 2)\n",
    "    plt.imshow(np.squeeze(labels[i]), cmap='gray')\n",
    "    plt.title('True Mask')\n",
    "    \n",
    "    plt.subplot(1, 5, 3)\n",
    "    plt.imshow(np.squeeze(predictions[i]), cmap='gray')\n",
    "    plt.title('Prediction')\n",
    "\n",
    "    plt.subplot(1, 5, 4)\n",
    "    plt.imshow(np.squeeze(binary_predictions[i]), cmap='gray')\n",
    "    plt.title('Binary Prediction')\n",
    "\n",
    "    plt.subplot(1, 5, 5)\n",
    "    plt.imshow(np.squeeze(sigmoid_predictions[i]), cmap='gray')\n",
    "    plt.title('Sigmoid Binary Prediction')\n",
    "    \n",
    "    plt.show()"
   ]
  },
  {
   "cell_type": "code",
   "execution_count": null,
   "metadata": {},
   "outputs": [],
   "source": [
    "# Plot the data, the labels, and the predictions\n",
    "for i in range(len(data)):\n",
    "    plt.figure(figsize=(10, 10))\n",
    "    \n",
    "    plt.subplot(1, 3, 1)\n",
    "    plt.imshow(data[i].cpu().numpy()[-1], cmap='gray')\n",
    "    plt.title('Data')\n",
    "    \n",
    "    plt.subplot(1, 3, 2)\n",
    "    plt.imshow(data[i].cpu().numpy()[-1], cmap='gray')\n",
    "    plt.imshow(np.squeeze(labels[i]), cmap='jet', alpha=0.5)\n",
    "    plt.title('Data with Label overlay')\n",
    "    \n",
    "    plt.subplot(1, 3, 3)\n",
    "    plt.imshow(data[i].cpu().numpy()[-1], cmap='gray')\n",
    "    plt.imshow(np.squeeze(binary_predictions[i]), cmap='jet', alpha=0.5)\n",
    "    plt.title('Data with Binary Prediction overlay')\n",
    "    \n",
    "    plt.show()"
   ]
  },
  {
   "cell_type": "code",
   "execution_count": null,
   "metadata": {},
   "outputs": [],
   "source": [
    "# Plot the label and the prediction\n",
    "for i in range(len(labels)):\n",
    "    plt.figure(figsize=(10, 10))\n",
    "    \n",
    "    plt.subplot(1, 2, 1)\n",
    "    plt.imshow(np.squeeze(labels[i]), cmap='gray')\n",
    "    plt.title('Label')\n",
    "    \n",
    "    plt.subplot(1, 2, 2)\n",
    "    plt.imshow(np.squeeze(labels[i]), cmap='gray')\n",
    "    plt.imshow(np.squeeze(binary_predictions[i]), cmap='jet', alpha=0.5)\n",
    "    plt.title('Label with Prediction overlay')\n",
    "    \n",
    "    plt.show()"
   ]
  },
  {
   "cell_type": "code",
   "execution_count": null,
   "metadata": {},
   "outputs": [],
   "source": [
    "from src.utils import *"
   ]
  },
  {
   "cell_type": "code",
   "execution_count": 17,
   "metadata": {},
   "outputs": [
    {
     "name": "stdout",
     "output_type": "stream",
     "text": [
      "9485 8665\n"
     ]
    }
   ],
   "source": [
    "label, detected = pos_pixels(model, test_loader, device, threshold=0.5)\n",
    "print(label, detected)"
   ]
  },
  {
   "cell_type": "code",
   "execution_count": 32,
   "metadata": {},
   "outputs": [
    {
     "name": "stdout",
     "output_type": "stream",
     "text": [
      "Cell detection rate: 0.8149231894659839, total cells: 2734, detected cells: 2228\n",
      "Cell detection rate: 0.7850824766913699, total cells: 4183, detected cells: 3284\n"
     ]
    }
   ],
   "source": [
    "cell_detection_rate, total, detected = cell_detection_skimage(model, val_loader, device)\n",
    "print(f'Cell detection rate: {cell_detection_rate}, total cells: {total}, detected cells: {detected}')\n",
    "cell_detection_rate, total, detected = cell_detection_skimage(model, test_loader, device)\n",
    "print(f'Cell detection rate: {cell_detection_rate}, total cells: {total}, detected cells: {detected}')"
   ]
  },
  {
   "cell_type": "code",
   "execution_count": 38,
   "metadata": {},
   "outputs": [
    {
     "name": "stdout",
     "output_type": "stream",
     "text": [
      "Cell detection rate: 0.8269934162399415, total cells: 2734, detected cells: 2261\n",
      "Cell detection rate: 0.7946449916327994, total cells: 4183, detected cells: 3324\n"
     ]
    }
   ],
   "source": [
    "cell_detection_rate, total, detected = cell_detection_scipy(model, val_loader, device)\n",
    "print(f'Cell detection rate: {cell_detection_rate}, total cells: {total}, detected cells: {detected}')\n",
    "cell_detection_rate, total, detected = cell_detection_scipy(model, test_loader, device)\n",
    "print(f'Cell detection rate: {cell_detection_rate}, total cells: {total}, detected cells: {detected}')"
   ]
  }
 ],
 "metadata": {
  "kernelspec": {
   "display_name": "Python 3",
   "language": "python",
   "name": "python3"
  },
  "language_info": {
   "codemirror_mode": {
    "name": "ipython",
    "version": 3
   },
   "file_extension": ".py",
   "mimetype": "text/x-python",
   "name": "python",
   "nbconvert_exporter": "python",
   "pygments_lexer": "ipython3",
   "version": "3.11.7"
  }
 },
 "nbformat": 4,
 "nbformat_minor": 2
}
