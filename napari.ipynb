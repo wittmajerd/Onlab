{
 "cells": [
  {
   "cell_type": "code",
   "execution_count": 92,
   "metadata": {},
   "outputs": [],
   "source": [
    "import torch\n",
    "import napari\n",
    "import numpy as np\n",
    "import os\n",
    "from src.datasets import create_datasets\n",
    "from src.unet import UNet"
   ]
  },
  {
   "cell_type": "code",
   "execution_count": null,
   "metadata": {},
   "outputs": [],
   "source": [
    "from torchsummary import summary\n",
    "\n",
    "model = UNet(n_channels=64, n_classes=1)\n",
    "# Load the checkpoint\n",
    "checkpoint = torch.load(\"checkpoints/checkpoint_epoch15.pth\")\n",
    "# Get the learning rate and remove it from the checkpoint\n",
    "lr = checkpoint.pop('learning_rate')\n",
    "# Load the state dictionary into the model\n",
    "model.load_state_dict(checkpoint)\n",
    "# Move the model to the device"
   ]
  },
  {
   "cell_type": "code",
   "execution_count": 19,
   "metadata": {},
   "outputs": [],
   "source": [
    "data = np.load('data_with_centers/0.npz')\n",
    "bio = data['biosensor'].astype(np.float32)\n",
    "mask = data['mask']"
   ]
  },
  {
   "cell_type": "code",
   "execution_count": 22,
   "metadata": {},
   "outputs": [],
   "source": [
    "viewer, image_layer = napari.imshow(mask, name='biosensor')\n",
    "new_layer = viewer.add_image(bio)"
   ]
  },
  {
   "cell_type": "code",
   "execution_count": 98,
   "metadata": {},
   "outputs": [],
   "source": [
    "data_path = 'data_with_centers/'\n",
    "train_percent = 1\n",
    "bio_len = 64\n",
    "mask_size = 80\n",
    "\n",
    "dataset = create_datasets(data_path, train_percent, bool, biosensor_length=bio_len, mask_size=mask_size, augment=False)"
   ]
  },
  {
   "cell_type": "code",
   "execution_count": 113,
   "metadata": {},
   "outputs": [
    {
     "data": {
      "text/plain": [
       "<Labels layer 'predictions' at 0x24dbb35c460>"
      ]
     },
     "execution_count": 113,
     "metadata": {},
     "output_type": "execute_result"
    }
   ],
   "source": [
    "data = dataset[0][8]\n",
    "viewer, image_layer = napari.imshow(data[0].numpy(), name='biosensor')\n",
    "viewer.add_labels(data[1].numpy(), name='mask')\n",
    "predictions = model(data[0].unsqueeze(0))\n",
    "binary_predictions = (predictions.detach().numpy() > 0.5).astype(bool)\n",
    "viewer.add_labels(binary_predictions, name='predictions')"
   ]
  },
  {
   "cell_type": "code",
   "execution_count": 87,
   "metadata": {},
   "outputs": [
    {
     "data": {
      "text/plain": [
       "<Labels layer 'mask [1]' at 0x24d7dba8070>"
      ]
     },
     "execution_count": 87,
     "metadata": {},
     "output_type": "execute_result"
    }
   ],
   "source": [
    "data = dataset[0][16]\n",
    "viewer.add_image(data[0].numpy(), name='biosensor')\n",
    "viewer.add_labels(data[1].numpy(), name='mask')"
   ]
  },
  {
   "cell_type": "code",
   "execution_count": null,
   "metadata": {},
   "outputs": [],
   "source": []
  }
 ],
 "metadata": {
  "kernelspec": {
   "display_name": "Python 3",
   "language": "python",
   "name": "python3"
  },
  "language_info": {
   "codemirror_mode": {
    "name": "ipython",
    "version": 3
   },
   "file_extension": ".py",
   "mimetype": "text/x-python",
   "name": "python",
   "nbconvert_exporter": "python",
   "pygments_lexer": "ipython3",
   "version": "3.10.14"
  }
 },
 "nbformat": 4,
 "nbformat_minor": 2
}
