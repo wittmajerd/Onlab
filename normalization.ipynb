{
 "cells": [
  {
   "cell_type": "code",
   "execution_count": 1,
   "metadata": {},
   "outputs": [],
   "source": [
    "import torch\n",
    "from torch.utils.data import Dataset\n",
    "from torch.utils.data import DataLoader\n",
    "from torchvision import datasets\n",
    "from torchvision.transforms import ToTensor, Normalize\n",
    "import numpy as np\n",
    "import os\n",
    "import matplotlib.pyplot as plt\n",
    "from natsort import natsorted\n",
    "from src.datasets import calculate_mean_and_std, BiosensorDataset"
   ]
  },
  {
   "cell_type": "code",
   "execution_count": 2,
   "metadata": {},
   "outputs": [],
   "source": [
    "torch.manual_seed(42)\n",
    "\n",
    "data_path = 'data_with_centers/'\n",
    "train_percent = 0.86\n",
    "bio_len = 16\n",
    "mask_size = 80\n",
    "\n",
    "\n",
    "files = os.listdir(data_path)\n",
    "train_size = int(train_percent * len(files))\n",
    "val_size = len(files) - train_size\n",
    "train_files, val_files = torch.utils.data.random_split(files, [train_size, val_size])\n",
    "\n",
    "mean, std = calculate_mean_and_std(data_path, train_files, biosensor_length=bio_len)\n",
    "\n",
    "\n",
    "\n",
    "train_dataset = BiosensorDataset(data_path, train_files, mean, std, bool, biosensor_length=bio_len, mask_size=mask_size)\n",
    "val_dataset = BiosensorDataset(data_path, train_files, mean, std, bool, biosensor_length=bio_len, mask_size=mask_size)\n",
    "\n",
    "train_loader = DataLoader(train_dataset, batch_size=4, shuffle=True)\n",
    "val_loader = DataLoader(val_dataset, batch_size=4, shuffle=True)\n",
    "\n"
   ]
  },
  {
   "cell_type": "code",
   "execution_count": 5,
   "metadata": {},
   "outputs": [
    {
     "name": "stdout",
     "output_type": "stream",
     "text": [
      "torch.Size([4, 16, 80, 80])\n",
      "torch.Size([4, 80, 80])\n",
      "tensor([0, 1], dtype=torch.uint8)\n",
      "2\n"
     ]
    },
    {
     "data": {
      "image/png": "[encoded data removed]",
      "text/plain": [
       "<Figure size 640x480 with 1 Axes>"
      ]
     },
     "metadata": {},
     "output_type": "display_data"
    }
   ],
   "source": [
    "for bio, mask in train_loader:\n",
    "    print(bio.shape)\n",
    "    print(mask.shape)\n",
    "    plt.imshow(mask[0])\n",
    "    print(mask[0].unique())\n",
    "    print(len(mask[0].unique()))\n",
    "    break"
   ]
  }
 ],
 "metadata": {
  "kernelspec": {
   "display_name": "Python 3",
   "language": "python",
   "name": "python3"
  },
  "language_info": {
   "codemirror_mode": {
    "name": "ipython",
    "version": 3
   },
   "file_extension": ".py",
   "mimetype": "text/x-python",
   "name": "python",
   "nbconvert_exporter": "python",
   "pygments_lexer": "ipython3",
   "version": "3.11.7"
  }
 },
 "nbformat": 4,
 "nbformat_minor": 2
}
