{
 "cells": [
  {
   "cell_type": "code",
   "execution_count": 3,
   "metadata": {},
   "outputs": [
    {
     "name": "stderr",
     "output_type": "stream",
     "text": [
      "c:\\Users\\wittd\\anaconda3\\Lib\\site-packages\\paramiko\\transport.py:219: CryptographyDeprecationWarning: Blowfish has been deprecated and will be removed in a future release\n",
      "  \"class\": algorithms.Blowfish,\n"
     ]
    }
   ],
   "source": [
    "import torch\n",
    "from torch.utils.data import DataLoader\n",
    "import numpy as np\n",
    "import os\n",
    "import matplotlib.pyplot as plt\n",
    "import matplotlib.patches as mpatches\n",
    "from torchinfo import summary\n",
    "\n",
    "import segmentation_models_pytorch as smp\n",
    "\n",
    "from src.datasets import BiosensorDataset, create_datasets\n",
    "from src.train import train_model\n",
    "from src.evaluate import evaluate\n",
    "from src.utils import *"
   ]
  },
  {
   "cell_type": "code",
   "execution_count": 3,
   "metadata": {},
   "outputs": [
    {
     "name": "stdout",
     "output_type": "stream",
     "text": [
      "Using device cuda\n",
      "Train size: 96\n",
      "Validation size: 32\n",
      "Test size: 35\n"
     ]
    }
   ],
   "source": [
    "device = torch.device('cuda' if torch.cuda.is_available() else 'cpu')\n",
    "print(f'Using device {device}')\n",
    "\n",
    "torch.manual_seed(42)\n",
    "np.random.seed(42)\n",
    "\n",
    "batch_size = 16\n",
    "upscale_factor = 1\n",
    "\n",
    "config = {\n",
    "    'path': 'C:/onlab_git/Onlab/data_with_centers/',\n",
    "    'mask_type': bool,\n",
    "    'augment': False,\n",
    "    'noise': 0.0,\n",
    "    'dilation': 0,\n",
    "    'tiling': False,\n",
    "    'tiling_ratio': 1,\n",
    "}\n",
    "\n",
    "create_dataset_args = {\n",
    "    'train_percent': 0.59,\n",
    "    'test_percent': 0.215,\n",
    "}\n",
    "\n",
    "calc_config = {\n",
    "    'biosensor_length': 8,\n",
    "    'mask_size': 80 * upscale_factor,\n",
    "    'input_scaling': False,\n",
    "    'upscale_mode': 'nearest',\n",
    "}\n",
    "\n",
    "train_dataset, val_dataset, test_dataset = create_datasets(config, create_dataset_args, calc_config)\n",
    "\n",
    "train_loader = DataLoader(train_dataset, batch_size=batch_size, shuffle=True, num_workers=4, pin_memory=True)\n",
    "val_loader = DataLoader(val_dataset, batch_size=batch_size, shuffle=False, num_workers=4, pin_memory=True)\n",
    "test_loader = DataLoader(test_dataset, batch_size=batch_size, shuffle=False)\n",
    "\n",
    "print('Train size:', len(train_dataset))\n",
    "print('Validation size:', len(val_dataset))\n",
    "print('Test size:', len(test_dataset))"
   ]
  },
  {
   "cell_type": "code",
   "execution_count": null,
   "metadata": {},
   "outputs": [],
   "source": [
    "# Create a SegNet model\n",
    "model = smp.Unet(\n",
    "    encoder_name=\"resnet34\",\n",
    "    encoder_weights=None,  #\"imagenet\"\n",
    "    classes=1,\n",
    "    in_channels=calc_config['biosensor_length'],\n",
    "    activation='sigmoid',\n",
    ")\n",
    "\n",
    "# Print the model architecture\n",
    "print(model)\n",
    "model = model.to(device)\n",
    "\n",
    "project_name = \"Testing SR models\"\n",
    "model_name = \"SRUNet8_80_triple_bilin\"\n",
    "\n",
    "model_summary = summary(model)\n",
    "print(model_summary.trainable_params)"
   ]
  },
  {
   "cell_type": "code",
   "execution_count": 5,
   "metadata": {},
   "outputs": [
    {
     "name": "stdout",
     "output_type": "stream",
     "text": [
      "Starting training:\n",
      "        Epochs:          5\n",
      "        Batch size:      16\n",
      "        Learning rate:   0.03\n",
      "        Training size:   96\n",
      "        Validation size: 32\n",
      "        Device:          cuda\n",
      "        Mixed Precision: True\n",
      "        Dilatation:      0\n",
      "    \n"
     ]
    },
    {
     "name": "stderr",
     "output_type": "stream",
     "text": [
      "                                                                  batch)=1.1]  \r"
     ]
    },
    {
     "name": "stdout",
     "output_type": "stream",
     "text": [
      "Validation Dice score: 0.001116573461331427, Detection rate: 0.0011061946902654867\n"
     ]
    },
    {
     "name": "stderr",
     "output_type": "stream",
     "text": [
      "Epoch 1/5: 100%|██████████| 96/96 [00:15<00:00,  6.04img/s, loss (batch)=1.1]\n"
     ]
    },
    {
     "name": "stdout",
     "output_type": "stream",
     "text": [
      "Checkpoint 1 saved!\n"
     ]
    },
    {
     "name": "stderr",
     "output_type": "stream",
     "text": [
      "                                                                  batch)=1.02] \r"
     ]
    },
    {
     "name": "stdout",
     "output_type": "stream",
     "text": [
      "Validation Dice score: 0.15279226005077362, Detection rate: 0.1570796460176991\n"
     ]
    },
    {
     "name": "stderr",
     "output_type": "stream",
     "text": [
      "Epoch 2/5: 100%|██████████| 96/96 [00:16<00:00,  5.81img/s, loss (batch)=1.02]\n"
     ]
    },
    {
     "name": "stdout",
     "output_type": "stream",
     "text": [
      "Checkpoint 2 saved!\n"
     ]
    },
    {
     "name": "stderr",
     "output_type": "stream",
     "text": [
      "                                                                  batch)=0.966]\r"
     ]
    },
    {
     "name": "stdout",
     "output_type": "stream",
     "text": [
      "Validation Dice score: 0.3841935396194458, Detection rate: 0.5789085545722714\n"
     ]
    },
    {
     "name": "stderr",
     "output_type": "stream",
     "text": [
      "Epoch 3/5: 100%|██████████| 96/96 [00:15<00:00,  6.00img/s, loss (batch)=0.966]\n"
     ]
    },
    {
     "name": "stdout",
     "output_type": "stream",
     "text": [
      "Checkpoint 3 saved!\n"
     ]
    },
    {
     "name": "stderr",
     "output_type": "stream",
     "text": [
      "                                                                  batch)=0.784]\r"
     ]
    },
    {
     "name": "stdout",
     "output_type": "stream",
     "text": [
      "Validation Dice score: 0.41779541969299316, Detection rate: 0.6095132743362832\n"
     ]
    },
    {
     "name": "stderr",
     "output_type": "stream",
     "text": [
      "Epoch 4/5: 100%|██████████| 96/96 [00:16<00:00,  5.99img/s, loss (batch)=0.784]\n"
     ]
    },
    {
     "name": "stdout",
     "output_type": "stream",
     "text": [
      "Checkpoint 4 saved!\n"
     ]
    },
    {
     "name": "stderr",
     "output_type": "stream",
     "text": [
      "                                                                  batch)=0.804]\r"
     ]
    },
    {
     "name": "stdout",
     "output_type": "stream",
     "text": [
      "Validation Dice score: 0.32398658990859985, Detection rate: 0.40486725663716816\n"
     ]
    },
    {
     "name": "stderr",
     "output_type": "stream",
     "text": [
      "Epoch 5/5: 100%|██████████| 96/96 [00:17<00:00,  5.61img/s, loss (batch)=0.804]"
     ]
    },
    {
     "name": "stdout",
     "output_type": "stream",
     "text": [
      "Checkpoint 5 saved!\n"
     ]
    },
    {
     "name": "stderr",
     "output_type": "stream",
     "text": [
      "\n"
     ]
    }
   ],
   "source": [
    "try:\n",
    "    train_model(\n",
    "        model,\n",
    "        project_name,\n",
    "        model_name,\n",
    "        device,\n",
    "        train_loader,\n",
    "        val_loader,\n",
    "        learning_rate=0.03,\n",
    "        epochs=5,\n",
    "        checkpoint_dir='test_saves',\n",
    "        amp=True,\n",
    "        wandb_logging=False,\n",
    "    )\n",
    "except torch.cuda.OutOfMemoryError:\n",
    "    torch.cuda.empty_cache()\n",
    "    print('Detected OutOfMemoryError!')"
   ]
  },
  {
   "cell_type": "code",
   "execution_count": null,
   "metadata": {},
   "outputs": [],
   "source": [
    "from torchinfo import summary\n",
    "model_summary = summary(model, depth=4)\n",
    "print(model_summary)\n",
    "# print(model_summary.total_params)\n",
    "# print(model_summary.trainable_params)"
   ]
  },
  {
   "cell_type": "code",
   "execution_count": 15,
   "metadata": {},
   "outputs": [],
   "source": [
    "def evaluate_after_training(model, val_loader, test_loader, device):\n",
    "    val_dice_score, val_detection_rate = evaluate(model, val_loader, device)\n",
    "    dice_score, detection_rate = evaluate(model, test_loader, device)\n",
    "    print(f'Validation dice score: {val_dice_score}, Detection rate: {val_detection_rate}')\n",
    "    print(f'Test dice score: {dice_score}, Detection rate: {detection_rate}')\n"
   ]
  },
  {
   "cell_type": "code",
   "execution_count": null,
   "metadata": {},
   "outputs": [],
   "source": [
    "# Load the checkpoint\n",
    "checkpoint = torch.load(\"test_saves/checkpoint_epoch20.pth\")\n",
    "# Get the learning rate and remove it from the checkpoint\n",
    "lr = checkpoint.pop('learning_rate')\n",
    "# Load the state dictionary into the model\n",
    "model.load_state_dict(checkpoint)\n",
    "# Move the model to the device\n",
    "model = model.to(device)\n",
    "\n",
    "evaluate_after_training(model, val_loader, test_loader, device)"
   ]
  },
  {
   "cell_type": "code",
   "execution_count": 23,
   "metadata": {},
   "outputs": [],
   "source": [
    "# Saving the best model for production\n",
    "# model = UNet8(n_channels=8, n_classes=1)\n",
    "# checkpoint = torch.load(\"checkpoints/checkpoint_8_4_85.pth\")\n",
    "# lr = checkpoint.pop('learning_rate')\n",
    "# model.load_state_dict(checkpoint)\n",
    "\n",
    "# torch.jit.script(model).save('saved_models/srunet8_len8_40dice.pth')"
   ]
  },
  {
   "cell_type": "code",
   "execution_count": 8,
   "metadata": {},
   "outputs": [],
   "source": [
    "def plot_results(bio, mask, prediction, binary_prediction):\n",
    "    plt.figure(figsize=(30, 10))\n",
    "\n",
    "    colored_mask = np.zeros((mask.shape[0], mask.shape[1], 4), dtype=np.float32)\n",
    "    colored_mask[mask == 1] = [1, 0, 0, 1]\n",
    "    colored_mask[mask == 0] = [0, 0, 0, 0]\n",
    "\n",
    "    colored_prediction = np.zeros((mask.shape[0], mask.shape[1], 4), dtype=np.float32)\n",
    "    colored_prediction[binary_prediction == 1] = [0, 0, 1, 1]\n",
    "    colored_prediction[binary_prediction == 0] = [0, 0, 0, 0]\n",
    "\n",
    "    plt.subplot(1, 3, 1)\n",
    "    plt.imshow(bio, cmap='gray')\n",
    "    plt.imshow(colored_mask, alpha=0.6)\n",
    "    plt.title('Biosensor with mask')\n",
    "    \n",
    "    plt.subplot(1, 3, 2)\n",
    "    plt.imshow(prediction, cmap='gray')\n",
    "    plt.imshow(colored_prediction, alpha=0.6)\n",
    "    plt.title('Prediction with the binary')\n",
    "\n",
    "    intercection = np.zeros((mask.shape[0], mask.shape[1], 4), dtype=np.float32)\n",
    "    intercection[(mask == 1) & (binary_prediction == 1)] = [0, 1, 0, 1]\n",
    "\n",
    "    plt.subplot(1, 3, 3)\n",
    "    # plt.imshow(bio, cmap='gray')\n",
    "    plt.imshow(colored_mask)\n",
    "    plt.imshow(colored_prediction)\n",
    "    plt.imshow(intercection)\n",
    "    plt.title('Label and Prediction overlap')\n",
    "    \n",
    "    red_patch = mpatches.Patch(color=[1, 0, 0, 1], label='Mask')\n",
    "    blue_patch = mpatches.Patch(color=[0, 0, 1, 1], label='Prediction')\n",
    "    green_patch = mpatches.Patch(color=[0, 1, 0, 1], label='Overlap')\n",
    "\n",
    "    plt.legend(handles=[red_patch, blue_patch, green_patch], loc='upper right', bbox_to_anchor=(1.5, 1))\n",
    "    \n",
    "    plt.show()"
   ]
  },
  {
   "cell_type": "code",
   "execution_count": null,
   "metadata": {},
   "outputs": [],
   "source": [
    "for batch_idx, (data, labels) in enumerate(test_loader):\n",
    "    data = data.to(device)\n",
    "    labels = labels.to(device)\n",
    "\n",
    "    predictions = model(data)\n",
    "\n",
    "    binary_predictions = (torch.nn.functional.sigmoid(predictions) > 0.5)\n",
    "    binary_predictions = binary_predictions.cpu().detach().numpy()\n",
    "\n",
    "    labels = labels.cpu().numpy()\n",
    "    predictions = predictions.cpu().detach().numpy()\n",
    "\n",
    "    for i in range(len(data)):\n",
    "        index = (batch_idx * len(data) + i + 1)\n",
    "        # print(index)\n",
    "        label = np.squeeze(labels[i])\n",
    "        binary_prediction = np.squeeze(binary_predictions[i])\n",
    "\n",
    "        plot_results(data[i][-1].cpu().detach().numpy(), label, np.squeeze(predictions[i]), binary_prediction)\n",
    "\n",
    "    break\n"
   ]
  },
  {
   "cell_type": "code",
   "execution_count": null,
   "metadata": {},
   "outputs": [],
   "source": [
    "def plot_loader_data(loader, title):\n",
    "    for batch_idx, (data, labels) in enumerate(loader):\n",
    "        # Move the data and labels to the CPU\n",
    "        data = data.cpu().numpy()\n",
    "        labels = labels.cpu().numpy()\n",
    "\n",
    "        if batch_idx == 1:\n",
    "            break\n",
    "\n",
    "        # Plot each image in the batch\n",
    "        for i in range(len(data)):\n",
    "            index = (batch_idx * len(data) + i + 1)\n",
    "\n",
    "            plt.figure(figsize=(20, 10))\n",
    "\n",
    "            # Plot the input image\n",
    "            plt.subplot(1, 3, 1)\n",
    "            plt.imshow(data[i][-1], cmap='gray')\n",
    "            plt.title(f'{title} - Image {index} ')\n",
    "\n",
    "            # Plot the label\n",
    "            plt.subplot(1, 3, 2)\n",
    "            plt.imshow(labels[i], cmap='gray')\n",
    "            plt.title(f'{title} - Label {index}')\n",
    "\n",
    "            plt.subplot(1, 3, 3)\n",
    "            plt.imshow(data[i][-1], cmap='gray')\n",
    "            plt.imshow(labels[i], cmap='Reds', alpha=0.25)\n",
    "\n",
    "            plt.show()\n",
    "\n",
    "plot_loader_data(test_loader, 'Test')"
   ]
  }
 ],
 "metadata": {
  "kernelspec": {
   "display_name": "Python 3",
   "language": "python",
   "name": "python3"
  },
  "language_info": {
   "codemirror_mode": {
    "name": "ipython",
    "version": 3
   },
   "file_extension": ".py",
   "mimetype": "text/x-python",
   "name": "python",
   "nbconvert_exporter": "python",
   "pygments_lexer": "ipython3",
   "version": "3.11.7"
  }
 },
 "nbformat": 4,
 "nbformat_minor": 2
}
